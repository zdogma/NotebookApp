{
 "cells": [
  {
   "cell_type": "code",
   "execution_count": 69,
   "metadata": {},
   "outputs": [],
   "source": [
    "import numpy as np\n",
    "import matplotlib.pyplot as plt"
   ]
  },
  {
   "cell_type": "code",
   "execution_count": 70,
   "metadata": {},
   "outputs": [],
   "source": [
    "train = np.loadtxt('01_sample_plot.csv', delimiter=',', skiprows=0)\n",
    "train_x = train[:, 0]\n",
    "train_y = train[:, 1]"
   ]
  },
  {
   "cell_type": "code",
   "execution_count": 71,
   "metadata": {},
   "outputs": [
    {
     "data": {
      "image/png": "[encoded data removed]",
      "text/plain": [
       "<matplotlib.figure.Figure at 0x7f2bb834eb00>"
      ]
     },
     "metadata": {},
     "output_type": "display_data"
    }
   ],
   "source": [
    "plt.plot(train_x, train_y, 'o')\n",
    "plt.show()"
   ]
  },
  {
   "cell_type": "code",
   "execution_count": 72,
   "metadata": {},
   "outputs": [
    {
     "name": "stdout",
     "output_type": "stream",
     "text": [
      "mu:  50.5\n",
      "sigma:  28.8660700477\n"
     ]
    }
   ],
   "source": [
    "mu = train_x.mean()\n",
    "sigma = train_x.std()\n",
    "\n",
    "print(\"mu: \", mu)\n",
    "print(\"sigma: \", sigma)"
   ]
  },
  {
   "cell_type": "code",
   "execution_count": 73,
   "metadata": {},
   "outputs": [],
   "source": [
    "def standardize(x):\n",
    "    return (x - mu) / sigma"
   ]
  },
  {
   "cell_type": "code",
   "execution_count": 74,
   "metadata": {},
   "outputs": [],
   "source": [
    "train_z = standardize(train_x)"
   ]
  },
  {
   "cell_type": "code",
   "execution_count": 75,
   "metadata": {},
   "outputs": [
    {
     "data": {
      "image/png": "[encoded data removed]",
      "text/plain": [
       "<matplotlib.figure.Figure at 0x7f2bb8463940>"
      ]
     },
     "metadata": {},
     "output_type": "display_data"
    }
   ],
   "source": [
    "plt.plot(train_z, train_y, 'o')\n",
    "plt. show()"
   ]
  },
  {
   "cell_type": "code",
   "execution_count": 94,
   "metadata": {},
   "outputs": [],
   "source": [
    "theta0 = np.random.rand()\n",
    "theta1 = np.random.rand()\n",
    "\n",
    "# 予測関数\n",
    "def f(x):\n",
    "    return theta0 + theta1 * x\n",
    "\n",
    "# 目的関数\n",
    "def E(x, y):\n",
    "    return 0.5 * np.sum((y - f(x)) ** 2)"
   ]
  },
  {
   "cell_type": "code",
   "execution_count": 100,
   "metadata": {},
   "outputs": [],
   "source": [
    "# 学習率\n",
    "ETA = 1e-3"
   ]
  },
  {
   "cell_type": "code",
   "execution_count": 101,
   "metadata": {},
   "outputs": [],
   "source": [
    "# 誤差の微分\n",
    "diff = 1"
   ]
  },
  {
   "cell_type": "code",
   "execution_count": 102,
   "metadata": {},
   "outputs": [],
   "source": [
    "# 更新回数\n",
    "count = 0"
   ]
  },
  {
   "cell_type": "code",
   "execution_count": 103,
   "metadata": {},
   "outputs": [
    {
     "name": "stdout",
     "output_type": "stream",
     "text": [
      "1回目: theta0 =  1110.817, theta1 =  533.723, 差分 =  14104367.8140\n",
      "2回目: theta0 =  1011.960, theta1 =  486.256, 差分 =  11424537.9293\n",
      "3回目: theta0 =  922.989, theta1 =  443.535, 差分 =  9253875.7228\n",
      "4回目: theta0 =  842.915, theta1 =  405.086, 差分 =  7495639.3354\n",
      "5回目: theta0 =  770.849, theta1 =  370.482, 差分 =  6071467.8617\n",
      "6回目: theta0 =  705.989, theta1 =  339.338, 差分 =  4917888.9680\n",
      "7回目: theta0 =  647.615, theta1 =  311.309, 差分 =  3983490.0641\n",
      "8回目: theta0 =  595.078, theta1 =  286.083, 差分 =  3226626.9519\n",
      "9回目: theta0 =  547.796, theta1 =  263.379, 差分 =  2613567.8310\n",
      "10回目: theta0 =  505.241, theta1 =  242.946, 差分 =  2116989.9431\n",
      "11回目: theta0 =  466.942, theta1 =  224.556, 差分 =  1714761.8539\n",
      "12回目: theta0 =  432.473, theta1 =  208.005, 差分 =  1388957.1017\n",
      "13回目: theta0 =  401.450, theta1 =  193.109, 差分 =  1125055.2524\n",
      "14回目: theta0 =  373.530, theta1 =  179.703, 差分 =  911294.7544\n",
      "15回目: theta0 =  348.402, theta1 =  167.637, 差分 =  738148.7511\n",
      "16回目: theta0 =  325.787, theta1 =  156.778, 差分 =  597900.4884\n",
      "17回目: theta0 =  305.433, theta1 =  147.005, 差分 =  484299.3956\n",
      "18回目: theta0 =  287.115, theta1 =  138.209, 差分 =  392282.5104\n",
      "19回目: theta0 =  270.629, theta1 =  130.292, 差分 =  317748.8334\n",
      "20回目: theta0 =  255.791, theta1 =  123.168, 差分 =  257376.5551\n",
      "21回目: theta0 =  242.437, theta1 =  116.756, 差分 =  208475.0096\n",
      "22回目: theta0 =  230.418, theta1 =  110.985, 差分 =  168864.7578\n",
      "23回目: theta0 =  219.601, theta1 =  105.791, 差分 =  136780.4538\n",
      "24回目: theta0 =  209.866, theta1 =  101.116, 差分 =  110792.1676\n",
      "25回目: theta0 =  201.104, theta1 =  96.909, 差分 =  89741.6557\n",
      "26回目: theta0 =  193.219, theta1 =  93.123, 差分 =  72690.7412\n",
      "27回目: theta0 =  186.122, theta1 =  89.715, 差分 =  58879.5003\n",
      "28回目: theta0 =  179.735, theta1 =  86.648, 差分 =  47692.3953\n",
      "29回目: theta0 =  173.986, theta1 =  83.888, 差分 =  38630.8402\n",
      "30回目: theta0 =  168.813, theta1 =  81.404, 差分 =  31290.9805\n",
      "31回目: theta0 =  164.156, theta1 =  79.168, 差分 =  25345.6942\n",
      "32回目: theta0 =  159.966, theta1 =  77.156, 差分 =  20530.0123\n",
      "33回目: theta0 =  156.194, theta1 =  75.345, 差分 =  16629.3100\n",
      "34回目: theta0 =  152.800, theta1 =  73.715, 差分 =  13469.7411\n",
      "35回目: theta0 =  149.745, theta1 =  72.248, 差分 =  10910.4903\n",
      "36回目: theta0 =  146.995, theta1 =  70.928, 差分 =  8837.4971\n",
      "37回目: theta0 =  144.521, theta1 =  69.740, 差分 =  7158.3727\n",
      "38回目: theta0 =  142.294, theta1 =  68.670, 差分 =  5798.2819\n",
      "39回目: theta0 =  140.289, theta1 =  67.708, 差分 =  4696.6083\n",
      "40回目: theta0 =  138.485, theta1 =  66.842, 差分 =  3804.2527\n",
      "41回目: theta0 =  136.862, theta1 =  66.062, 差分 =  3081.4447\n",
      "42回目: theta0 =  135.401, theta1 =  65.361, 差分 =  2495.9702\n",
      "43回目: theta0 =  134.086, theta1 =  64.729, 差分 =  2021.7359\n",
      "44回目: theta0 =  132.902, theta1 =  64.161, 差分 =  1637.6061\n",
      "45回目: theta0 =  131.837, theta1 =  63.649, 差分 =  1326.4609\n",
      "46回目: theta0 =  130.878, theta1 =  63.189, 差分 =  1074.4333\n",
      "47回目: theta0 =  130.015, theta1 =  62.775, 差分 =  870.2910\n",
      "48回目: theta0 =  129.239, theta1 =  62.402, 差分 =  704.9357\n",
      "49回目: theta0 =  128.540, theta1 =  62.066, 差分 =  570.9979\n",
      "50回目: theta0 =  127.911, theta1 =  61.764, 差分 =  462.5083\n",
      "51回目: theta0 =  127.345, theta1 =  61.492, 差分 =  374.6317\n",
      "52回目: theta0 =  126.835, theta1 =  61.248, 差分 =  303.4517\n",
      "53回目: theta0 =  126.377, theta1 =  61.028, 差分 =  245.7959\n",
      "54回目: theta0 =  125.964, theta1 =  60.829, 差分 =  199.0947\n",
      "55回目: theta0 =  125.593, theta1 =  60.651, 差分 =  161.2667\n",
      "56回目: theta0 =  125.258, theta1 =  60.491, 差分 =  130.6260\n",
      "57回目: theta0 =  124.958, theta1 =  60.346, 差分 =  105.8071\n",
      "58回目: theta0 =  124.687, theta1 =  60.216, 差分 =  85.7037\n",
      "59回目: theta0 =  124.443, theta1 =  60.099, 差分 =  69.4200\n",
      "60回目: theta0 =  124.224, theta1 =  59.994, 差分 =  56.2302\n",
      "61回目: theta0 =  124.026, theta1 =  59.899, 差分 =  45.5465\n",
      "62回目: theta0 =  123.849, theta1 =  59.814, 差分 =  36.8926\n",
      "63回目: theta0 =  123.689, theta1 =  59.737, 差分 =  29.8830\n",
      "64回目: theta0 =  123.545, theta1 =  59.668, 差分 =  24.2053\n",
      "65回目: theta0 =  123.416, theta1 =  59.606, 差分 =  19.6063\n",
      "66回目: theta0 =  123.299, theta1 =  59.550, 差分 =  15.8811\n",
      "67回目: theta0 =  123.194, theta1 =  59.499, 差分 =  12.8637\n",
      "68回目: theta0 =  123.100, theta1 =  59.454, 差分 =  10.4196\n",
      "69回目: theta0 =  123.015, theta1 =  59.413, 差分 =  8.4399\n",
      "70回目: theta0 =  122.938, theta1 =  59.376, 差分 =  6.8363\n",
      "71回目: theta0 =  122.869, theta1 =  59.343, 差分 =  5.5374\n",
      "72回目: theta0 =  122.807, theta1 =  59.314, 差分 =  4.4853\n",
      "73回目: theta0 =  122.752, theta1 =  59.287, 差分 =  3.6331\n",
      "74回目: theta0 =  122.702, theta1 =  59.263, 差分 =  2.9428\n",
      "75回目: theta0 =  122.656, theta1 =  59.241, 差分 =  2.3837\n",
      "76回目: theta0 =  122.616, theta1 =  59.222, 差分 =  1.9308\n",
      "77回目: theta0 =  122.579, theta1 =  59.204, 差分 =  1.5639\n",
      "78回目: theta0 =  122.546, theta1 =  59.188, 差分 =  1.2668\n",
      "79回目: theta0 =  122.517, theta1 =  59.174, 差分 =  1.0261\n",
      "80回目: theta0 =  122.490, theta1 =  59.161, 差分 =  0.8311\n",
      "81回目: theta0 =  122.466, theta1 =  59.150, 差分 =  0.6732\n",
      "82回目: theta0 =  122.444, theta1 =  59.139, 差分 =  0.5453\n",
      "83回目: theta0 =  122.425, theta1 =  59.130, 差分 =  0.4417\n",
      "84回目: theta0 =  122.407, theta1 =  59.122, 差分 =  0.3578\n",
      "85回目: theta0 =  122.392, theta1 =  59.114, 差分 =  0.2898\n",
      "86回目: theta0 =  122.378, theta1 =  59.107, 差分 =  0.2347\n",
      "87回目: theta0 =  122.365, theta1 =  59.101, 差分 =  0.1901\n",
      "88回目: theta0 =  122.353, theta1 =  59.096, 差分 =  0.1540\n",
      "89回目: theta0 =  122.343, theta1 =  59.091, 差分 =  0.1247\n",
      "90回目: theta0 =  122.334, theta1 =  59.086, 差分 =  0.1010\n",
      "91回目: theta0 =  122.325, theta1 =  59.082, 差分 =  0.0818\n",
      "92回目: theta0 =  122.318, theta1 =  59.079, 差分 =  0.0663\n",
      "93回目: theta0 =  122.311, theta1 =  59.075, 差分 =  0.0537\n",
      "94回目: theta0 =  122.305, theta1 =  59.072, 差分 =  0.0435\n",
      "95回目: theta0 =  122.299, theta1 =  59.070, 差分 =  0.0352\n",
      "96回目: theta0 =  122.294, theta1 =  59.067, 差分 =  0.0285\n",
      "97回目: theta0 =  122.290, theta1 =  59.065, 差分 =  0.0231\n",
      "98回目: theta0 =  122.286, theta1 =  59.063, 差分 =  0.0187\n",
      "99回目: theta0 =  122.282, theta1 =  59.062, 差分 =  0.0152\n",
      "100回目: theta0 =  122.279, theta1 =  59.060, 差分 =  0.0123\n",
      "101回目: theta0 =  122.276, theta1 =  59.059, 差分 =  0.0100\n"
     ]
    }
   ],
   "source": [
    "# 学習のループ\n",
    "error = E(train_z, train_y)\n",
    "\n",
    "while diff > 1e-2:\n",
    "    # 更新結果を一時変数に保存\n",
    "    tmp0 = theta0 - ETA * np.sum(f(train_z) - train_y)\n",
    "    tmp1 = theta1 - ETA * np.sum((f(train_z) - train_y) * train_z)\n",
    "    \n",
    "    # パラメータを更新\n",
    "    theta0 = tmp0\n",
    "    theta1 = tmp1\n",
    "    \n",
    "    # 前回の誤差との微分を計算\n",
    "    current_error = E(train_z, train_y)\n",
    "    diff = error - current_error\n",
    "    error = current_error\n",
    "    \n",
    "    # ログの出力\n",
    "    count += 1\n",
    "    log = '{}回目: theta0 = {: .3f}, theta1 = {: .3f}, 差分 = {: .4f}'\n",
    "    print(log.format(count, theta0, theta1, diff))"
   ]
  },
  {
   "cell_type": "code",
   "execution_count": 104,
   "metadata": {},
   "outputs": [
    {
     "data": {
      "image/png": "[encoded data removed]",
      "text/plain": [
       "<matplotlib.figure.Figure at 0x7f2bb7e08588>"
      ]
     },
     "metadata": {},
     "output_type": "display_data"
    }
   ],
   "source": [
    "x = np.linspace(-3, 3, 100)\n",
    "\n",
    "plt.plot(x, f(x))\n",
    "plt.plot(train_z, train_y, 'o')\n",
    "plt.show()"
   ]
  },
  {
   "cell_type": "code",
   "execution_count": null,
   "metadata": {},
   "outputs": [],
   "source": []
  }
 ],
 "metadata": {
  "kernelspec": {
   "display_name": "Python 3",
   "language": "python",
   "name": "python3"
  },
  "language_info": {
   "codemirror_mode": {
    "name": "ipython",
    "version": 3
   },
   "file_extension": ".py",
   "mimetype": "text/x-python",
   "name": "python",
   "nbconvert_exporter": "python",
   "pygments_lexer": "ipython3",
   "version": "3.6.2"
  }
 },
 "nbformat": 4,
 "nbformat_minor": 2
}

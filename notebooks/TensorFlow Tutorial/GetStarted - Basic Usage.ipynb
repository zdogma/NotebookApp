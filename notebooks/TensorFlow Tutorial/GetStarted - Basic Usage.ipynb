{
 "cells": [
  {
   "cell_type": "code",
   "execution_count": 1,
   "metadata": {},
   "outputs": [],
   "source": [
    "import tensorflow as tf\n",
    "import numpy as np"
   ]
  },
  {
   "cell_type": "code",
   "execution_count": 3,
   "metadata": {},
   "outputs": [],
   "source": [
    "feature_columns = [tf.feature_column.numeric_column(\"x\", shape=[1])]"
   ]
  },
  {
   "cell_type": "code",
   "execution_count": 5,
   "metadata": {},
   "outputs": [
    {
     "name": "stdout",
     "output_type": "stream",
     "text": [
      "INFO:tensorflow:Using default config.\n",
      "WARNING:tensorflow:Using temporary folder as model directory: /tmp/tmpdj5cngr5\n",
      "INFO:tensorflow:Using config: {'_model_dir': '/tmp/tmpdj5cngr5', '_tf_random_seed': 1, '_save_summary_steps': 100, '_save_checkpoints_secs': 600, '_save_checkpoints_steps': None, '_session_config': None, '_keep_checkpoint_max': 5, '_keep_checkpoint_every_n_hours': 10000, '_log_step_count_steps': 100}\n"
     ]
    }
   ],
   "source": [
    "estimator = tf.estimator.LinearRegressor(feature_columns=feature_columns)"
   ]
  },
  {
   "cell_type": "code",
   "execution_count": 15,
   "metadata": {},
   "outputs": [],
   "source": [
    "x_train = np.array([1., 2., 3., 4.])\n",
    "y_train = np.array([0., -1., -2., -3.])\n",
    "x_eval  = np.array([2., 5., 8., 1.])\n",
    "y_eval  = np.array([-1.01, -4.1, -7, 0.])"
   ]
  },
  {
   "cell_type": "code",
   "execution_count": 16,
   "metadata": {},
   "outputs": [],
   "source": [
    "input_fn = tf.estimator.inputs.numpy_input_fn(\n",
    "    {\"x\": x_train}, y_train, batch_size=4, num_epochs=None, shuffle=True\n",
    ")"
   ]
  },
  {
   "cell_type": "code",
   "execution_count": 19,
   "metadata": {},
   "outputs": [],
   "source": [
    "train_input_fn = tf.estimator.inputs.numpy_input_fn(\n",
    "    {\"x\": x_train}, y_train, batch_size=4, num_epochs=1_000, shuffle=False\n",
    ")"
   ]
  },
  {
   "cell_type": "code",
   "execution_count": 20,
   "metadata": {},
   "outputs": [],
   "source": [
    "eval_input_fn = tf.estimator.inputs.numpy_input_fn(\n",
    "    {\"x\": x_eval}, y_eval, batch_size=4, num_epochs=1_000, shuffle=False\n",
    ")"
   ]
  },
  {
   "cell_type": "code",
   "execution_count": 27,
   "metadata": {},
   "outputs": [
    {
     "name": "stdout",
     "output_type": "stream",
     "text": [
      "INFO:tensorflow:Create CheckpointSaverHook.\n",
      "INFO:tensorflow:Restoring parameters from /tmp/tmpdj5cngr5/model.ckpt-1000\n",
      "INFO:tensorflow:Saving checkpoints for 1001 into /tmp/tmpdj5cngr5/model.ckpt.\n",
      "INFO:tensorflow:loss = 1.20993e-08, step = 1001\n",
      "INFO:tensorflow:global_step/sec: 633.235\n",
      "INFO:tensorflow:loss = 2.8373e-09, step = 1101 (0.159 sec)\n",
      "INFO:tensorflow:global_step/sec: 1002.33\n",
      "INFO:tensorflow:loss = 5.58032e-10, step = 1201 (0.100 sec)\n",
      "INFO:tensorflow:global_step/sec: 1023.13\n",
      "INFO:tensorflow:loss = 5.70459e-11, step = 1301 (0.097 sec)\n",
      "INFO:tensorflow:global_step/sec: 936.768\n",
      "INFO:tensorflow:loss = 1.3987e-11, step = 1401 (0.107 sec)\n",
      "INFO:tensorflow:global_step/sec: 952.69\n",
      "INFO:tensorflow:loss = 1.48148e-12, step = 1501 (0.106 sec)\n",
      "INFO:tensorflow:global_step/sec: 1011.47\n",
      "INFO:tensorflow:loss = 5.68434e-13, step = 1601 (0.098 sec)\n",
      "INFO:tensorflow:global_step/sec: 939.696\n",
      "INFO:tensorflow:loss = 2.27374e-13, step = 1701 (0.106 sec)\n",
      "INFO:tensorflow:global_step/sec: 993.619\n",
      "INFO:tensorflow:loss = 7.56728e-13, step = 1801 (0.101 sec)\n",
      "INFO:tensorflow:global_step/sec: 814.711\n",
      "INFO:tensorflow:loss = 4.54747e-13, step = 1901 (0.124 sec)\n",
      "INFO:tensorflow:Saving checkpoints for 2000 into /tmp/tmpdj5cngr5/model.ckpt.\n",
      "INFO:tensorflow:Loss for final step: 1.74083e-13.\n"
     ]
    },
    {
     "data": {
      "text/plain": [
       "<tensorflow.python.estimator.canned.linear.LinearRegressor at 0x7f97660747b8>"
      ]
     },
     "execution_count": 27,
     "metadata": {},
     "output_type": "execute_result"
    }
   ],
   "source": [
    "estimator.train(input_fn=input_fn, steps=1000)"
   ]
  },
  {
   "cell_type": "code",
   "execution_count": 25,
   "metadata": {},
   "outputs": [
    {
     "name": "stdout",
     "output_type": "stream",
     "text": [
      "INFO:tensorflow:Starting evaluation at 2017-10-31-13:27:13\n",
      "INFO:tensorflow:Restoring parameters from /tmp/tmpdj5cngr5/model.ckpt-1000\n",
      "INFO:tensorflow:Finished evaluation at 2017-10-31-13:27:14\n",
      "INFO:tensorflow:Saving dict for global step 1000: average_loss = 4.36468e-09, global_step = 1000, loss = 1.74587e-08\n"
     ]
    }
   ],
   "source": [
    "train_metrics = estimator.evaluate(input_fn=train_input_fn)"
   ]
  },
  {
   "cell_type": "code",
   "execution_count": 26,
   "metadata": {},
   "outputs": [
    {
     "name": "stdout",
     "output_type": "stream",
     "text": [
      "INFO:tensorflow:Starting evaluation at 2017-10-31-13:27:16\n",
      "INFO:tensorflow:Restoring parameters from /tmp/tmpdj5cngr5/model.ckpt-1000\n",
      "INFO:tensorflow:Finished evaluation at 2017-10-31-13:27:17\n",
      "INFO:tensorflow:Saving dict for global step 1000: average_loss = 0.00253121, global_step = 1000, loss = 0.0101249\n"
     ]
    }
   ],
   "source": [
    "eval_metrics = estimator.evaluate(input_fn=eval_input_fn)"
   ]
  },
  {
   "cell_type": "code",
   "execution_count": 28,
   "metadata": {},
   "outputs": [
    {
     "name": "stdout",
     "output_type": "stream",
     "text": [
      "train metrics: {'average_loss': 4.3646771e-09, 'loss': 1.7458708e-08, 'global_step': 1000}\n"
     ]
    }
   ],
   "source": [
    "print(\"train metrics: %r\"% train_metrics)"
   ]
  },
  {
   "cell_type": "code",
   "execution_count": 29,
   "metadata": {},
   "outputs": [
    {
     "name": "stdout",
     "output_type": "stream",
     "text": [
      "eval metrics: {'average_loss': 0.0025312137, 'loss': 0.010124855, 'global_step': 1000}\n"
     ]
    }
   ],
   "source": [
    "print(\"eval metrics: %r\"% eval_metrics)"
   ]
  }
 ],
 "metadata": {
  "kernelspec": {
   "display_name": "Python 3",
   "language": "python",
   "name": "python3"
  },
  "language_info": {
   "codemirror_mode": {
    "name": "ipython",
    "version": 3
   },
   "file_extension": ".py",
   "mimetype": "text/x-python",
   "name": "python",
   "nbconvert_exporter": "python",
   "pygments_lexer": "ipython3",
   "version": "3.6.2"
  }
 },
 "nbformat": 4,
 "nbformat_minor": 2
}
